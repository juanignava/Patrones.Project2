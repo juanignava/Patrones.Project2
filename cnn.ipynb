{
 "cells": [
  {
   "cell_type": "code",
   "execution_count": 33,
   "metadata": {},
   "outputs": [],
   "source": [
    "import torch\n",
    "import torch.nn as nn\n",
    "import torch.optim as optim\n",
    "from torch.utils.data import DataLoader"
   ]
  },
  {
   "cell_type": "code",
   "execution_count": 34,
   "metadata": {},
   "outputs": [],
   "source": [
    "# Define the CNN architecture\n",
    "class CNN(nn.Module):\n",
    "    def __init__(self, device, kernel_size=3, max_pool_size=2, lr=0.001, epochs=3):\n",
    "        super(CNN, self).__init__()\n",
    "        self.conv1 = nn.Conv2d(1, 16, kernel_size=kernel_size, stride=1, padding=1)\n",
    "        self.relu1 = nn.ReLU()\n",
    "        self.pool1 = nn.MaxPool2d(kernel_size=max_pool_size, stride=2)\n",
    "        self.conv2 = nn.Conv2d(16, 32, kernel_size=kernel_size, stride=1, padding=1)\n",
    "        self.relu2 = nn.ReLU()\n",
    "        self.pool2 = nn.MaxPool2d(kernel_size=max_pool_size, stride=2)\n",
    "        self.fc1 = nn.Linear(32 * 75 * 75, 128)\n",
    "        self.relu3 = nn.ReLU()\n",
    "        self.fc2 = nn.Linear(128, 4)\n",
    "\n",
    "        self.lr = lr\n",
    "        self.epochs = epochs\n",
    "        self.device = device\n",
    "\n",
    "\n",
    "    def forward(self, x):\n",
    "        x = self.conv1(x)\n",
    "        x = self.relu1(x)\n",
    "        x = self.pool1(x)\n",
    "        x = self.conv2(x)\n",
    "        x = self.relu2(x)\n",
    "        x = self.pool2(x)\n",
    "        x = x.view(x.size(0), -1)\n",
    "        x = self.fc1(x)\n",
    "        x = self.relu3(x)\n",
    "        x = self.fc2(x)\n",
    "        return x\n",
    "    \n",
    "    def train_cnn(self, train_dataset, train_labels):\n",
    "        # Set the loss function and optimizer\n",
    "        criterion = nn.CrossEntropyLoss()\n",
    "        optimizer = optim.Adam(self.parameters(), self.lr)\n",
    "\n",
    "        # Create a data loader for the training dataset\n",
    "        train_loader = DataLoader(dataset=list(zip(train_dataset, train_labels)), batch_size=16, shuffle=True)\n",
    "\n",
    "        self.train()\n",
    "        for epoch in range(self.epochs):\n",
    "            running_loss = 0.0\n",
    "            for images, labels in train_loader:\n",
    "                images = images.to(self.device)\n",
    "                labels = labels.to(self.device)\n",
    "\n",
    "                optimizer.zero_grad()\n",
    "\n",
    "                outputs = self(images)\n",
    "                loss = criterion(outputs, labels)\n",
    "\n",
    "                loss.backward()\n",
    "                optimizer.step()\n",
    "\n",
    "            running_loss += loss.item() * images.size(0)\n",
    "\n",
    "            epoch_loss = running_loss / len(train_dataset)\n",
    "            print(f\"Epoch [{epoch+1}/{self.epochs}], Loss: {epoch_loss:.4f}\")\n",
    "\n",
    "    def predict(self, test_dataset):\n",
    "        predictions = []\n",
    "        self.eval()  # Set the model to evaluation mode\n",
    "\n",
    "        # Create a data loader for the training dataset\n",
    "        dataloader = DataLoader(test_dataset, batch_size=16, shuffle=True)\n",
    "\n",
    "        \n",
    "        with torch.no_grad():  # Disable gradient computation for efficiency\n",
    "            for inputs in dataloader:\n",
    "                #inputs = inputs.to(device)  # Move inputs to the same device as the model\n",
    "                \n",
    "                # Forward pass through the model to obtain predictions\n",
    "                outputs = self(inputs)\n",
    "                \n",
    "                # Get the predicted class indices\n",
    "                _, predicted = torch.max(outputs, 1)\n",
    "                \n",
    "                # Append the predicted class indices to the predictions list\n",
    "                predictions.extend(predicted.tolist())\n",
    "        \n",
    "        return predictions\n",
    "\n",
    "\n",
    "\n"
   ]
  },
  {
   "cell_type": "code",
   "execution_count": 36,
   "metadata": {},
   "outputs": [
    {
     "name": "stdout",
     "output_type": "stream",
     "text": [
      "Epoch [1/3], Loss: 0.2680\n",
      "Epoch [2/3], Loss: 0.0517\n",
      "Epoch [3/3], Loss: 0.0544\n"
     ]
    },
    {
     "data": {
      "text/plain": [
       "[3, 3, 3, 3, 3, 3, 3, 3, 3, 3]"
      ]
     },
     "execution_count": 36,
     "metadata": {},
     "output_type": "execute_result"
    }
   ],
   "source": [
    "# Create an instance of the CNN model\n",
    "device = torch.device(\"cuda\" if torch.cuda.is_available() else \"cpu\")\n",
    "\n",
    "model = CNN(epochs=3, device=device).to(device)\n",
    "\n",
    "# Create a random training dataset for demonstration\n",
    "train_dataset = torch.randn(100, 1, 300, 300)  # Assuming grayscale images with size 300x300\n",
    "train_labels = torch.randint(0, 4, (100,))  # Random labels (0 to 3) for the categories\n",
    "\n",
    "model.train_cnn(train_dataset, train_labels)\n",
    "\n",
    "# Create a random test dataset for demonstration\n",
    "test_dataset = torch.randn(10, 1, 300, 300)  # Assuming grayscale images with size 300x300\n",
    "\n",
    "\n",
    "model.predict(test_dataset)"
   ]
  }
 ],
 "metadata": {
  "kernelspec": {
   "display_name": "Python 3",
   "language": "python",
   "name": "python3"
  },
  "language_info": {
   "codemirror_mode": {
    "name": "ipython",
    "version": 3
   },
   "file_extension": ".py",
   "mimetype": "text/x-python",
   "name": "python",
   "nbconvert_exporter": "python",
   "pygments_lexer": "ipython3",
   "version": "3.11.1"
  },
  "orig_nbformat": 4
 },
 "nbformat": 4,
 "nbformat_minor": 2
}
